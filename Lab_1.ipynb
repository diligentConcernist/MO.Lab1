{
 "cells": [
  {
   "cell_type": "markdown",
   "metadata": {},
   "source": [
    "# Лабораторная работа №1\n",
    "\n",
    "В данной лабораторной работе мы реализуем два алгоритма нахождения оптимального пути в графах: метод Беллмана и метод Дейкстры.\n",
    "Для лучшего восприятия полученных результатов воспользуемся библиотекой для отрисовки графов networkx.\n",
    "Ввод графа можно осуществлять при помощи текстового файла, имеющего следующий вид:\n",
    "\n",
    "```\n",
    "number_of_nodes\n",
    "first_node1, second_node1, weight1\n",
    "first_node2, second_node2, weight2\n",
    "...\n",
    "```\n",
    "где все значения имеют тип int, `number_of_nodes` - число вершин в графе, `first_node` - начальная вершина, `second_node` - конечная вершина, `weight` - вес ребра\n",
    "\n",
    "В обоих из методах, каждая вершина графа помечается, показывая минимальный суммарный вес, который мы молучаем при переходе из стартовой вершины. Соответственно, после применения одного из алгоритмов, метку `0` имеет начальная вершина, метку `inf` имеет вершина, в которую не удастся попасть из начальной ни при каких условиях.\n",
    "\n",
    "## Описание основных функций\n",
    "* Создание графа из текстового файла graph.txt: `createGraph()`\n",
    "* Создание графа из текстового файла с именем filename: `createGraph(filename)`\n",
    "* Создание пустого графа с n вершинами: `g = Graph(n)`\n",
    "* Добавление ребра из `a` в `b` весом `weight` в граф: `g.addEdge(a, b, weight)`\n",
    "* Применение метода Беллмана для поиска пути из `start` в `finish`: `g.Bellman(start, end)`\n",
    "* Применение метода Дейкстры для поиска пути из `start` в `finish`: `g.Dijkstra(start, end)`"
   ]
  },
  {
   "cell_type": "markdown",
   "metadata": {},
   "source": [
    "## Создание графа из файла:"
   ]
  },
  {
   "cell_type": "code",
   "execution_count": 1,
   "metadata": {
    "scrolled": true
   },
   "outputs": [],
   "source": [
    "import sys  \n",
    "sys.path.insert(0, '../graph.py')\n",
    "\n",
    "from graph import *\n",
    "\n",
    "g = createGraph()"
   ]
  },
  {
   "cell_type": "markdown",
   "metadata": {},
   "source": [
    "## Применение метода Беллмана:"
   ]
  },
  {
   "cell_type": "code",
   "execution_count": 2,
   "metadata": {},
   "outputs": [
    {
     "name": "stdout",
     "output_type": "stream",
     "text": [
      "Optimal path from 0 to 5 is [0, 2, 4, 5], it's length is 16\n"
     ]
    },
    {
     "data": {
      "image/png": "[encoded data removed]",
      "text/plain": [
       "<Figure size 432x288 with 1 Axes>"
      ]
     },
     "metadata": {},
     "output_type": "display_data"
    }
   ],
   "source": [
    "g.Bellman(0, 5)"
   ]
  },
  {
   "cell_type": "markdown",
   "metadata": {},
   "source": [
    "## Применение метода Дейкстры:"
   ]
  },
  {
   "cell_type": "code",
   "execution_count": 3,
   "metadata": {},
   "outputs": [
    {
     "name": "stdout",
     "output_type": "stream",
     "text": [
      "Optimal path from 0 to 5 is [0, 2, 4, 5], it's length is 16\n"
     ]
    },
    {
     "data": {
      "image/png": "[encoded data removed]",
      "text/plain": [
       "<Figure size 432x288 with 1 Axes>"
      ]
     },
     "metadata": {},
     "output_type": "display_data"
    }
   ],
   "source": [
    "g.Dijkstra(0, 5)"
   ]
  },
  {
   "cell_type": "markdown",
   "metadata": {},
   "source": [
    "## Проверка различных случаев неправильного ввода"
   ]
  },
  {
   "cell_type": "code",
   "execution_count": 4,
   "metadata": {},
   "outputs": [
    {
     "name": "stdout",
     "output_type": "stream",
     "text": [
      "Node index 1 is out of range\n"
     ]
    }
   ],
   "source": [
    "H = Graph(0)\n",
    "\n",
    "H.addEdge(0, 1, 2) # <-- добавление ребра между несуществующими вершинами"
   ]
  },
  {
   "cell_type": "code",
   "execution_count": 5,
   "metadata": {},
   "outputs": [
    {
     "name": "stdout",
     "output_type": "stream",
     "text": [
      "Inputed graph have no edges\n"
     ]
    }
   ],
   "source": [
    "H = Graph(2)\n",
    "\n",
    "H.Bellman(0, 1) # <-- поиск в пустом графе"
   ]
  },
  {
   "cell_type": "code",
   "execution_count": 6,
   "metadata": {},
   "outputs": [
    {
     "name": "stdout",
     "output_type": "stream",
     "text": [
      "Inputed graph is not connected\n"
     ]
    }
   ],
   "source": [
    "H = Graph(4)\n",
    "\n",
    "H.addEdge(0, 1, 2) # <-- создание несвязного графа\n",
    "\n",
    "H.Bellman(1, 2)"
   ]
  },
  {
   "cell_type": "code",
   "execution_count": 7,
   "metadata": {},
   "outputs": [
    {
     "name": "stdout",
     "output_type": "stream",
     "text": [
      "Inputed graph contains edge with negative weight (edge 2-3)\n"
     ]
    }
   ],
   "source": [
    "H.addEdge(1, 2, 1)\n",
    "H.addEdge(2, 3, -2)\n",
    "\n",
    "H.Dijkstra(1, 2) # <-- попытка применить метод Дейкстры на граф с отрицательными весами ребер"
   ]
  },
  {
   "cell_type": "code",
   "execution_count": 8,
   "metadata": {},
   "outputs": [
    {
     "name": "stdout",
     "output_type": "stream",
     "text": [
      "Inputed graph contains self loops (node №3)\n"
     ]
    }
   ],
   "source": [
    "H.addEdge(1, 1, 1) # <-- добавление петли\n",
    "\n",
    "H.Bellman(1, 2)"
   ]
  },
  {
   "cell_type": "code",
   "execution_count": 10,
   "metadata": {},
   "outputs": [
    {
     "name": "stdout",
     "output_type": "stream",
     "text": [
      "Path from 0 to 2 does not exist\n"
     ]
    }
   ],
   "source": [
    "H = Graph(3)\n",
    "\n",
    "H.addEdge(1, 0, 2)\n",
    "H.addEdge(2, 1, 2) # <-- из 0 вершины невозможно попасть во 2\n",
    "\n",
    "H.Bellman(0, 2)"
   ]
  },
  {
   "cell_type": "code",
   "execution_count": null,
   "metadata": {},
   "outputs": [],
   "source": [
    "main"
   ]
  }
 ],
 "metadata": {
  "kernelspec": {
   "display_name": "Python 3",
   "language": "python",
   "name": "python3"
  },
  "language_info": {
   "codemirror_mode": {
    "name": "ipython",
    "version": 3
   },
   "file_extension": ".py",
   "mimetype": "text/x-python",
   "name": "python",
   "nbconvert_exporter": "python",
   "pygments_lexer": "ipython3",
   "version": "3.8.5"
  }
 },
 "nbformat": 4,
 "nbformat_minor": 5
}
